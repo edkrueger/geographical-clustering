{
 "cells": [
  {
   "cell_type": "code",
   "execution_count": 1,
   "id": "745e0b77",
   "metadata": {},
   "outputs": [],
   "source": [
    "%load_ext lab_black"
   ]
  },
  {
   "cell_type": "code",
   "execution_count": 2,
   "id": "fefe45bc",
   "metadata": {},
   "outputs": [],
   "source": [
    "import pandas as pd\n",
    "from haversine import haversine"
   ]
  },
  {
   "cell_type": "code",
   "execution_count": 3,
   "id": "67065b71",
   "metadata": {},
   "outputs": [],
   "source": [
    "def find_kilometers_per_degree_longitude(lat):\n",
    "    \"\"\"Returns the distance in kilometers traveling one degree longitudinally at a latitude\"\"\"\n",
    "    return haversine((lat, 0), (lat, 1))"
   ]
  },
  {
   "cell_type": "code",
   "execution_count": 4,
   "id": "776923c9",
   "metadata": {},
   "outputs": [],
   "source": [
    "df = pd.read_csv(\"inaturalist-puma-concolor-2021-06-21-clean.csv\").set_index(\"gbifID\")"
   ]
  },
  {
   "cell_type": "markdown",
   "id": "ae1a725d",
   "metadata": {},
   "source": [
    "At the equator, traveling one degree longitudinally would take 111 km. However, at the poles, traveling one degree longitudinally takes 0 km. In general, as we move towards the poles, the actual longitudinally distance between two points decreases."
   ]
  },
  {
   "cell_type": "code",
   "execution_count": 5,
   "id": "d0918f43",
   "metadata": {},
   "outputs": [
    {
     "name": "stdout",
     "output_type": "stream",
     "text": [
      "6.8086485356391085e-15\n",
      "111.1950802335329\n",
      "6.8086485356391085e-15\n"
     ]
    }
   ],
   "source": [
    "print(find_kilometers_per_degree_longitude(-90))\n",
    "print(find_kilometers_per_degree_longitude(0))\n",
    "print(find_kilometers_per_degree_longitude(90))"
   ]
  },
  {
   "cell_type": "markdown",
   "id": "751d3ccf",
   "metadata": {},
   "source": [
    "In our dataset, a degree of longitude can represent anywhere between 62 and 111 km."
   ]
  },
  {
   "cell_type": "code",
   "execution_count": 6,
   "id": "22e21168",
   "metadata": {},
   "outputs": [
    {
     "data": {
      "text/plain": [
       "count    2785.000000\n",
       "mean       91.556665\n",
       "std         8.654723\n",
       "min        62.091114\n",
       "25%        87.061434\n",
       "50%        91.742441\n",
       "75%        94.977474\n",
       "max       111.194846\n",
       "Name: latitude, dtype: float64"
      ]
     },
     "execution_count": 6,
     "metadata": {},
     "output_type": "execute_result"
    }
   ],
   "source": [
    "df[\"latitude\"].apply(find_kilometers_per_degree_longitude).describe()"
   ]
  },
  {
   "cell_type": "markdown",
   "id": "4895e1cc",
   "metadata": {},
   "source": [
    "Because we are dealing with a species with a wide lateral range, we will run into potential when applying the Euclidean metric to the dataset: observations that are closer to the poles will appear farther apart to the euclidean metric than points closer to the equator.  \n",
    "\n",
    "For species with a realitively small lateral range, the difference between havesine and Euclidean distance will be minimal."
   ]
  },
  {
   "cell_type": "markdown",
   "id": "9d3896eb",
   "metadata": {},
   "source": [
    "The difference between haversine and Euclidean distances is relevant because k-means implicitly Euclidean: when it updates a cluster's centroid while taking the mean of the points in the cluster, it minimizes the squared Euclidean distance between the centroid and the points in the cluster."
   ]
  }
 ],
 "metadata": {
  "environment": {
   "name": "common-cpu.m65",
   "type": "gcloud",
   "uri": "gcr.io/deeplearning-platform-release/base-cpu:m65"
  },
  "kernelspec": {
   "display_name": "Python 3",
   "language": "python",
   "name": "python3"
  },
  "language_info": {
   "codemirror_mode": {
    "name": "ipython",
    "version": 3
   },
   "file_extension": ".py",
   "mimetype": "text/x-python",
   "name": "python",
   "nbconvert_exporter": "python",
   "pygments_lexer": "ipython3",
   "version": "3.7.10"
  }
 },
 "nbformat": 4,
 "nbformat_minor": 5
}
