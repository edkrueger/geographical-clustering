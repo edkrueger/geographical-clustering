{
 "cells": [
  {
   "cell_type": "code",
   "execution_count": 1,
   "id": "ab49ad78",
   "metadata": {},
   "outputs": [],
   "source": [
    "%load_ext lab_black"
   ]
  },
  {
   "cell_type": "code",
   "execution_count": 2,
   "id": "d69d81aa",
   "metadata": {},
   "outputs": [],
   "source": [
    "import pandas as pd\n",
    "from haversine import haversine\n",
    "import matplotlib.pyplot as plt"
   ]
  },
  {
   "cell_type": "code",
   "execution_count": 3,
   "id": "5595b5d7",
   "metadata": {},
   "outputs": [],
   "source": [
    "def find_kilometers_per_degree_longitude(lat):\n",
    "    \"\"\"Returns the distance in kilometers traveling one degree longitudinally at a latitude\"\"\"\n",
    "    return haversine((lat, 0), (lat, 1))"
   ]
  },
  {
   "cell_type": "code",
   "execution_count": 4,
   "id": "4d01557f",
   "metadata": {},
   "outputs": [],
   "source": [
    "df = pd.read_csv(\"inaturalist-puma-concolor-2021-06-21-clean.csv\").set_index(\"gbifID\")"
   ]
  },
  {
   "cell_type": "markdown",
   "id": "b8dab901",
   "metadata": {},
   "source": [
    "At the equator, traveling one degree longitudinally would take 111 km. However, at the poles, traveling one degree longitudinally takes 0 km. In general, as we move towards the poles, the actual longitudinally distance between two points decreases."
   ]
  },
  {
   "cell_type": "code",
   "execution_count": 5,
   "id": "44f80d71",
   "metadata": {},
   "outputs": [
    {
     "name": "stdout",
     "output_type": "stream",
     "text": [
      "6.8086485356391085e-15\n",
      "111.1950802335329\n",
      "6.8086485356391085e-15\n"
     ]
    }
   ],
   "source": [
    "print(find_kilometers_per_degree_longitude(-90))\n",
    "print(find_kilometers_per_degree_longitude(0))\n",
    "print(find_kilometers_per_degree_longitude(90))"
   ]
  },
  {
   "cell_type": "markdown",
   "id": "8f24a669",
   "metadata": {},
   "source": [
    "In our dataset, a degree of longitude can represent anywhere between 62 and 111 km."
   ]
  },
  {
   "cell_type": "code",
   "execution_count": 6,
   "id": "e9a401da",
   "metadata": {},
   "outputs": [],
   "source": [
    "kilometers_per_degree_longitude = df[\"latitude\"].apply(\n",
    "    find_kilometers_per_degree_longitude\n",
    ")"
   ]
  },
  {
   "cell_type": "code",
   "execution_count": 7,
   "id": "f9131636",
   "metadata": {},
   "outputs": [
    {
     "data": {
      "text/plain": [
       "count    2785.000000\n",
       "mean       91.556665\n",
       "std         8.654723\n",
       "min        62.091114\n",
       "25%        87.061434\n",
       "50%        91.742441\n",
       "75%        94.977474\n",
       "max       111.194846\n",
       "Name: latitude, dtype: float64"
      ]
     },
     "execution_count": 7,
     "metadata": {},
     "output_type": "execute_result"
    }
   ],
   "source": [
    "kilometers_per_degree_longitude.describe()"
   ]
  },
  {
   "cell_type": "code",
   "execution_count": 8,
   "id": "044faa63",
   "metadata": {},
   "outputs": [
    {
     "data": {
      "image/png": "[encoded data removed]",
      "text/plain": [
       "<Figure size 432x288 with 1 Axes>"
      ]
     },
     "metadata": {
      "needs_background": "light"
     },
     "output_type": "display_data"
    }
   ],
   "source": [
    "plt.title(\"Distribution of Kilometers per Degree of Longitude\")\n",
    "kilometers_per_degree_longitude.hist()\n",
    "plt.xlabel(\"Kilometers per Degree of Longitude\")\n",
    "plt.ylabel(\"Frequency\")\n",
    "plt.show()"
   ]
  },
  {
   "cell_type": "markdown",
   "id": "70c3465f",
   "metadata": {},
   "source": [
    "The closer to uniform this distribution is the less of an issue we have. Because we are dealing with a species with a wide lateral range, we will run into potential when applying the Euclidean metric to the dataset: observations that are closer to the poles will appear farther apart to the euclidean metric than points closer to the equator.  \n",
    "\n",
    "For species with a realitively small lateral range, the difference between havesine and Euclidean distance will be minimal."
   ]
  },
  {
   "cell_type": "markdown",
   "id": "6a0a01a2",
   "metadata": {},
   "source": [
    "The difference between haversine and Euclidean distances is relevant because k-means implicitly Euclidean: when it updates a cluster's centroid while taking the mean of the points in the cluster, it minimizes the squared Euclidean distance between the centroid and the points in the cluster."
   ]
  }
 ],
 "metadata": {
  "environment": {
   "name": "common-cpu.m65",
   "type": "gcloud",
   "uri": "gcr.io/deeplearning-platform-release/base-cpu:m65"
  },
  "kernelspec": {
   "display_name": "Python 3",
   "language": "python",
   "name": "python3"
  },
  "language_info": {
   "codemirror_mode": {
    "name": "ipython",
    "version": 3
   },
   "file_extension": ".py",
   "mimetype": "text/x-python",
   "name": "python",
   "nbconvert_exporter": "python",
   "pygments_lexer": "ipython3",
   "version": "3.7.10"
  }
 },
 "nbformat": 4,
 "nbformat_minor": 5
}
