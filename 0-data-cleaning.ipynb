{
 "cells": [
  {
   "cell_type": "code",
   "execution_count": 1,
   "id": "b08a9d6b",
   "metadata": {},
   "outputs": [],
   "source": [
    "%load_ext lab_black"
   ]
  },
  {
   "cell_type": "code",
   "execution_count": 2,
   "id": "c2d9c503",
   "metadata": {},
   "outputs": [],
   "source": [
    "import pandas as pd\n",
    "import pycountry_convert"
   ]
  },
  {
   "cell_type": "code",
   "execution_count": 3,
   "id": "d024ee40",
   "metadata": {},
   "outputs": [],
   "source": [
    "def convert_country_alpha2_to_continent_name(country_alpha2):\n",
    "    continent_code = pycountry_convert.country_alpha2_to_continent_code(country_alpha2)\n",
    "    return pycountry_convert.convert_continent_code_to_continent_name(continent_code)"
   ]
  },
  {
   "cell_type": "code",
   "execution_count": 4,
   "id": "4c56adc4",
   "metadata": {},
   "outputs": [],
   "source": [
    "columns_rename = {\n",
    "    \"countryCode\": \"country_code\",\n",
    "    \"decimalLatitude\": \"latitude\",\n",
    "    \"decimalLongitude\": \"longitude\",\n",
    "    \"eventDate\": \"event_data\",\n",
    "    \"day\": \"day\",\n",
    "    \"month\": \"month\",\n",
    "    \"year\": \"year\",\n",
    "}"
   ]
  },
  {
   "cell_type": "code",
   "execution_count": 5,
   "id": "26e88233",
   "metadata": {},
   "outputs": [],
   "source": [
    "df = (\n",
    "    pd.read_csv(\"inaturalist-puma-concolor-2021-06-21.csv\", delimiter=\"\\t\")\n",
    "    .set_index(\"gbifID\")\n",
    "    .loc[:, columns_rename.keys()]\n",
    "    .rename(columns=columns_rename)\n",
    "    .dropna(how=\"any\", subset=[\"latitude\", \"longitude\"])\n",
    "    .assign(\n",
    "        continent=lambda df: df[\"country_code\"].apply(\n",
    "            convert_country_alpha2_to_continent_name\n",
    "        )\n",
    "    )\n",
    ")"
   ]
  },
  {
   "cell_type": "code",
   "execution_count": 6,
   "id": "42c00d20",
   "metadata": {},
   "outputs": [
    {
     "data": {
      "text/plain": [
       "1881      1\n",
       "1975      1\n",
       "1983      1\n",
       "1984      1\n",
       "1992      2\n",
       "1995      1\n",
       "1996      1\n",
       "2001      2\n",
       "2002      1\n",
       "2003      4\n",
       "2004      1\n",
       "2005     11\n",
       "2006      2\n",
       "2007      9\n",
       "2008     26\n",
       "2009     18\n",
       "2010     24\n",
       "2011     25\n",
       "2012     36\n",
       "2013     55\n",
       "2014     98\n",
       "2015    135\n",
       "2016    138\n",
       "2017    221\n",
       "2018    333\n",
       "2019    557\n",
       "2020    774\n",
       "2021    307\n",
       "Name: year, dtype: int64"
      ]
     },
     "execution_count": 6,
     "metadata": {},
     "output_type": "execute_result"
    }
   ],
   "source": [
    "df[\"year\"].value_counts().sort_index()"
   ]
  },
  {
   "cell_type": "code",
   "execution_count": 7,
   "id": "df0f6fc4",
   "metadata": {},
   "outputs": [],
   "source": [
    "df.to_csv(\"inaturalist-puma-concolor-2021-06-21-clean.csv\")"
   ]
  }
 ],
 "metadata": {
  "environment": {
   "name": "common-cpu.m65",
   "type": "gcloud",
   "uri": "gcr.io/deeplearning-platform-release/base-cpu:m65"
  },
  "kernelspec": {
   "display_name": "Python 3",
   "language": "python",
   "name": "python3"
  },
  "language_info": {
   "codemirror_mode": {
    "name": "ipython",
    "version": 3
   },
   "file_extension": ".py",
   "mimetype": "text/x-python",
   "name": "python",
   "nbconvert_exporter": "python",
   "pygments_lexer": "ipython3",
   "version": "3.7.10"
  }
 },
 "nbformat": 4,
 "nbformat_minor": 5
}
